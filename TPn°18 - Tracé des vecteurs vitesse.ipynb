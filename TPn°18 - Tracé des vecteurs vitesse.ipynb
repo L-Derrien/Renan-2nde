{
 "cells": [
  {
   "cell_type": "markdown",
   "metadata": {},
   "source": [
    "## Force et mouvement - Principe d'inertie"
   ]
  },
  {
   "cell_type": "markdown",
   "metadata": {},
   "source": [
    "*Importation des bibliothèques*"
   ]
  },
  {
   "cell_type": "code",
   "execution_count": null,
   "metadata": {},
   "outputs": [],
   "source": [
    "import numpy as np \n",
    "import matplotlib.pyplot as plt"
   ]
  },
  {
   "cell_type": "markdown",
   "metadata": {},
   "source": [
    "## Tracé de la chronophotographie et des vecteurs vitesse\n",
    "\n",
    "### Chronophotographie\n",
    "\n",
    "1.Compléter les tableaux en indiquant les abscisses et les ordonnées, en mètres, du centre G de la goutte au cours de son mouvement.\n",
    "\n",
    "2.Compléter les instructions pour : \n",
    "- indiquer les grandeurs et les unités sur les axes du graphique ;\n",
    "- donner un titre au graphique.\n",
    "\n",
    "### Vecteurs vitesse\n",
    "\n",
    "3.a. Indiquer le nombre total N de positions prises par le point G au cours du mouvement.\n",
    "\n",
    "  b. Préciser la durée, en seconde, entre deux positions successives du point G.\n",
    "  \n",
    "  c. Compléter les instructions afin de représenter les vecteurs vitesse du point G à chacune des positions."
   ]
  },
  {
   "cell_type": "code",
   "execution_count": null,
   "metadata": {},
   "outputs": [],
   "source": [
    "#Positions du point G\n",
    "x=np.array([...,...,...,...,...,...])\n",
    "y=np.array([...,...,...,...,...,...])\n",
    "\n",
    "\n",
    "#Tracé de la chronophotographie\n",
    "plt.plot(x,y,'o',markersize=5)\n",
    "plt.xlabel(\"x en m\")\n",
    "plt.ylabel(\"y en m\")\n",
    "plt.title(\"Chronophotographie\")\n",
    "\n",
    "#Tracé des vecteurs vitesse\n",
    "N=...\n",
    "dt=...\n",
    "for k in range(0, ...) :\n",
    "    \n",
    "    Vy=(y[...]- y[...])/dt   \n",
    "        \n",
    "    echelle=... #coefficient pour ajuster la longueur des vecteurs\n",
    "    Vy=Vy*echelle    \n",
    "    \n",
    "    plt.quiver(x[k],y[k],Vy,0,color=\"red\",scale_units='xy',scale=1)\n",
    "\n",
    "#Affichage\n",
    "plt.show()    "
   ]
  },
  {
   "cell_type": "code",
   "execution_count": null,
   "metadata": {},
   "outputs": [],
   "source": []
  }
 ],
 "metadata": {
  "kernelspec": {
   "display_name": "Python 3",
   "language": "python",
   "name": "python3"
  },
  "language_info": {
   "codemirror_mode": {
    "name": "ipython",
    "version": 3
   },
   "file_extension": ".py",
   "mimetype": "text/x-python",
   "name": "python",
   "nbconvert_exporter": "python",
   "pygments_lexer": "ipython3",
   "version": "3.7.4"
  }
 },
 "nbformat": 4,
 "nbformat_minor": 2
}
